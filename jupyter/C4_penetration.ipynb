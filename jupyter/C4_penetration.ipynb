{
 "cells": [
  {
   "cell_type": "markdown",
   "id": "4b2c0c09-a73e-4871-a412-5b1440651935",
   "metadata": {},
   "source": [
    "# C4 penetration"
   ]
  },
  {
   "cell_type": "code",
   "execution_count": 1,
   "id": "de8b7a1d-0cf2-446f-9c77-81c9383f7cee",
   "metadata": {
    "execution": {
     "iopub.execute_input": "2025-01-15T22:30:15.145515Z",
     "iopub.status.busy": "2025-01-15T22:30:15.143466Z",
     "iopub.status.idle": "2025-01-15T22:30:15.583205Z",
     "shell.execute_reply": "2025-01-15T22:30:15.582913Z",
     "shell.execute_reply.started": "2025-01-15T22:30:15.145449Z"
    }
   },
   "outputs": [],
   "source": [
    "import numpy as np\n",
    "import matplotlib.pyplot as plt\n",
    "import uproot\n",
    "import pandas as pd"
   ]
  },
  {
   "cell_type": "markdown",
   "id": "dde2a49b-7812-4ee2-9f89-5e323bd661b8",
   "metadata": {},
   "source": [
    "## Datasets"
   ]
  },
  {
   "cell_type": "code",
   "execution_count": 2,
   "id": "bfd4f53d-95ef-4e38-876a-0ca795d9f36d",
   "metadata": {
    "execution": {
     "iopub.execute_input": "2025-01-15T22:30:15.584393Z",
     "iopub.status.busy": "2025-01-15T22:30:15.584200Z",
     "iopub.status.idle": "2025-01-15T22:30:15.586162Z",
     "shell.execute_reply": "2025-01-15T22:30:15.585846Z",
     "shell.execute_reply.started": "2025-01-15T22:30:15.584379Z"
    }
   },
   "outputs": [],
   "source": [
    "# filename = '/Users/jcaravaca/Work_Local/data_overflow/C4/gate/results/C4_12heads_hole0p5_pointsource_140keV_1MBq_1000s.root'\n",
    "# filename = '/Users/jcaravaca/Work_Local/data_overflow/C4/gate/results/C4_12heads_hole0p7_pointsource_140keV_1MBq_1000s.root'\n",
    "# filename = '/Users/jcaravaca/Work_Local/data_overflow/C4/gate/results/C4_12heads_col15gmL_hole0p7_pointsource_140keV_1MBq_10s.root'\n",
    "# filename = '/Users/jcaravaca/Work_Local/data_overflow/C4/gate/results/C4_12heads_lead_hole0p7_pointsource_140keV_1MBq_10s.root'\n",
    "\n",
    "# Tungsten\n",
    "# filename = '/Users/jcaravaca/Work_Local/data_overflow/C4/gate/results/C4_12heads_tungsten_hole0p7_pointsource_50keV_1MBq_10s.root'\n",
    "# filename = '/Users/jcaravaca/Work_Local/data_overflow/C4/gate/results/C4_12heads_tungsten_hole0p7_pointsource_100keV_1MBq_10s.root'\n",
    "# filename = '/Users/jcaravaca/Work_Local/data_overflow/C4/gate/results/C4_12heads_tungsten_hole0p7_pointsource_140keV_1MBq_10s.root'\n",
    "# filename = '/Users/jcaravaca/Work_Local/data_overflow/C4/gate/results/C4_12heads_tungsten_hole0p7_pointsource_218keV_1MBq_10s.root'\n",
    "# filename = '/Users/jcaravaca/Work_Local/data_overflow/C4/gate/results/C4_12heads_tungsten_hole0p7_pointsource_365keV_1MBq_10s.root'\n",
    "\n",
    "# Tungsten epoxy\n",
    "# filename = '/Users/jcaravaca/Work_Local/data_overflow/C4/gate/results/C4_12heads_tungstenepoxy_hole0p7_pointsource_50keV_1MBq_10s.root'\n",
    "# filename = '/Users/jcaravaca/Work_Local/data_overflow/C4/gate/results/C4_12heads_tungstenepoxy_hole0p7_pointsource_100keV_1MBq_10s.root'\n",
    "# filename = '/Users/jcaravaca/Work_Local/data_overflow/C4/gate/results/C4_12heads_tungstenepoxy_hole0p7_pointsource_140keV_1MBq_10s.root'\n",
    "filename = '/Users/jcaravaca/Work_Local/data_overflow/C4/gate/results/C4_12heads_tungstenepoxy_hole0p7_pointsource_218keV_1MBq_10s.root'\n",
    "# filename = '/Users/jcaravaca/Work_Local/data_overflow/C4/gate/results/C4_12heads_tungstenepoxy_hole0p7_pointsource_365keV_1MBq_10s.root'\n"
   ]
  },
  {
   "cell_type": "markdown",
   "id": "7d6ba180-dfa9-4d33-837b-d68f2412da73",
   "metadata": {},
   "source": [
    "## Parameters"
   ]
  },
  {
   "cell_type": "code",
   "execution_count": 3,
   "id": "e0aaaba4-74e3-4f2b-b252-4537f6446b0c",
   "metadata": {
    "execution": {
     "iopub.execute_input": "2025-01-15T22:30:15.587079Z",
     "iopub.status.busy": "2025-01-15T22:30:15.586971Z",
     "iopub.status.idle": "2025-01-15T22:30:15.588554Z",
     "shell.execute_reply": "2025-01-15T22:30:15.588288Z",
     "shell.execute_reply.started": "2025-01-15T22:30:15.587066Z"
    }
   },
   "outputs": [],
   "source": [
    "PIXELID = 3894\n",
    "ENERGYLO = 0.217\n"
   ]
  },
  {
   "cell_type": "code",
   "execution_count": 4,
   "id": "5b4253d7-55bb-4899-af83-81e96b1ac27a",
   "metadata": {
    "execution": {
     "iopub.execute_input": "2025-01-15T22:30:15.589121Z",
     "iopub.status.busy": "2025-01-15T22:30:15.589018Z",
     "iopub.status.idle": "2025-01-15T22:30:15.699229Z",
     "shell.execute_reply": "2025-01-15T22:30:15.698838Z",
     "shell.execute_reply.started": "2025-01-15T22:30:15.589109Z"
    }
   },
   "outputs": [],
   "source": [
    "f = uproot.open(filename)\n",
    "singles = f['Singles']\n",
    "singles = singles.arrays()"
   ]
  },
  {
   "cell_type": "markdown",
   "id": "3ed3834d-b7c3-488d-ba19-2355e8273db1",
   "metadata": {},
   "source": [
    "## HeadID"
   ]
  },
  {
   "cell_type": "code",
   "execution_count": 5,
   "id": "630a0c99-47ee-44e1-94cf-b26a68097734",
   "metadata": {
    "execution": {
     "iopub.execute_input": "2025-01-15T22:30:15.699857Z",
     "iopub.status.busy": "2025-01-15T22:30:15.699733Z",
     "iopub.status.idle": "2025-01-15T22:30:15.763865Z",
     "shell.execute_reply": "2025-01-15T22:30:15.763532Z",
     "shell.execute_reply.started": "2025-01-15T22:30:15.699844Z"
    }
   },
   "outputs": [
    {
     "data": {
      "image/png": "[encoded data removed]",
      "text/plain": [
       "<Figure size 432x288 with 1 Axes>"
      ]
     },
     "metadata": {
      "needs_background": "light"
     },
     "output_type": "display_data"
    }
   ],
   "source": [
    "plt.hist(singles['headID'])\n",
    "plt.xlabel('Head ID')\n",
    "plt.ylabel('Counts')\n",
    "plt.show()"
   ]
  },
  {
   "cell_type": "code",
   "execution_count": 6,
   "id": "fa8f5cce-a1d2-48ed-b720-0fbf58d2442f",
   "metadata": {
    "execution": {
     "iopub.execute_input": "2025-01-15T22:30:15.764710Z",
     "iopub.status.busy": "2025-01-15T22:30:15.764567Z",
     "iopub.status.idle": "2025-01-15T22:30:15.768372Z",
     "shell.execute_reply": "2025-01-15T22:30:15.767811Z",
     "shell.execute_reply.started": "2025-01-15T22:30:15.764694Z"
    }
   },
   "outputs": [],
   "source": [
    "singles = singles[singles['headID']==0]"
   ]
  },
  {
   "cell_type": "markdown",
   "id": "8067ba17-b061-449b-9e5a-fe8b95c778ad",
   "metadata": {},
   "source": [
    "## Pixel ID"
   ]
  },
  {
   "cell_type": "code",
   "execution_count": 7,
   "id": "07528e74-d57a-4ef7-89fb-8b8d83867256",
   "metadata": {
    "execution": {
     "iopub.execute_input": "2025-01-15T22:30:15.769500Z",
     "iopub.status.busy": "2025-01-15T22:30:15.769358Z",
     "iopub.status.idle": "2025-01-15T22:30:15.971011Z",
     "shell.execute_reply": "2025-01-15T22:30:15.970654Z",
     "shell.execute_reply.started": "2025-01-15T22:30:15.769485Z"
    }
   },
   "outputs": [
    {
     "data": {
      "image/png": "[encoded data removed]",
      "text/plain": [
       "<Figure size 432x288 with 1 Axes>"
      ]
     },
     "metadata": {
      "needs_background": "light"
     },
     "output_type": "display_data"
    }
   ],
   "source": [
    "plt.hist(singles['pixelID'],bins=100,range=(3800,3900))\n",
    "plt.hist(singles[singles['energy']>ENERGYLO]['pixelID'],bins=100,range=(3800,3900))\n",
    "plt.xlabel('Pixel ID')\n",
    "plt.ylabel('Counts')\n",
    "plt.show()"
   ]
  },
  {
   "cell_type": "code",
   "execution_count": 8,
   "id": "163c3f9a-5331-4da9-bf5a-c5db138d0d75",
   "metadata": {
    "execution": {
     "iopub.execute_input": "2025-01-15T22:30:15.973572Z",
     "iopub.status.busy": "2025-01-15T22:30:15.973339Z",
     "iopub.status.idle": "2025-01-15T22:30:16.086492Z",
     "shell.execute_reply": "2025-01-15T22:30:16.086163Z",
     "shell.execute_reply.started": "2025-01-15T22:30:15.973545Z"
    }
   },
   "outputs": [
    {
     "data": {
      "image/png": "[encoded data removed]",
      "text/plain": [
       "<Figure size 432x288 with 1 Axes>"
      ]
     },
     "metadata": {
      "needs_background": "light"
     },
     "output_type": "display_data"
    }
   ],
   "source": [
    "plt.hist(singles['energy'],bins=100)\n",
    "plt.xlabel('Energy [MeV]')\n",
    "plt.ylabel('Counts')\n",
    "plt.show()"
   ]
  },
  {
   "cell_type": "markdown",
   "id": "a5333d9e-f357-4b3f-a19a-1572a767e3f4",
   "metadata": {},
   "source": [
    "## XY"
   ]
  },
  {
   "cell_type": "code",
   "execution_count": 9,
   "id": "0d7e9543-af9f-4a1b-bd0a-ceefa186b471",
   "metadata": {
    "execution": {
     "iopub.execute_input": "2025-01-15T22:30:16.087577Z",
     "iopub.status.busy": "2025-01-15T22:30:16.087397Z",
     "iopub.status.idle": "2025-01-15T22:30:16.160775Z",
     "shell.execute_reply": "2025-01-15T22:30:16.160433Z",
     "shell.execute_reply.started": "2025-01-15T22:30:16.087562Z"
    }
   },
   "outputs": [
    {
     "data": {
      "image/png": "[encoded data removed]",
      "text/plain": [
       "<Figure size 432x288 with 1 Axes>"
      ]
     },
     "metadata": {
      "needs_background": "light"
     },
     "output_type": "display_data"
    }
   ],
   "source": [
    "plt.hist2d(singles['globalPosX'].tolist(),singles['globalPosZ'].tolist(),bins=(200,200),range=((-8.5,9.5),(-8.5,9.5)))\n",
    "plt.show()"
   ]
  },
  {
   "cell_type": "markdown",
   "id": "5c16dff2-75eb-4436-8239-e1ef00d48d6c",
   "metadata": {},
   "source": [
    "## Penetration calculation"
   ]
  },
  {
   "cell_type": "code",
   "execution_count": 10,
   "id": "d6c938d5-722c-4007-bd1a-73a8912a663c",
   "metadata": {
    "execution": {
     "iopub.execute_input": "2025-01-15T22:30:16.161484Z",
     "iopub.status.busy": "2025-01-15T22:30:16.161354Z",
     "iopub.status.idle": "2025-01-15T22:30:16.164648Z",
     "shell.execute_reply": "2025-01-15T22:30:16.164220Z",
     "shell.execute_reply.started": "2025-01-15T22:30:16.161471Z"
    }
   },
   "outputs": [],
   "source": [
    "def calcPenetration(singles):\n",
    "    singles_Esel = singles[singles['energy']>ENERGYLO]\n",
    "    ntotal = len(singles_Esel)\n",
    "    nhole = len(singles_Esel[singles_Esel['pixelID']==PIXELID])\n",
    "    nsepta = ntotal - nhole\n",
    "    pen = nsepta/ntotal\n",
    "\n",
    "    print('ntotal',ntotal,'nhole',nhole,'nsepta',nsepta,'pen',pen)\n",
    "    return pen"
   ]
  },
  {
   "cell_type": "code",
   "execution_count": 11,
   "id": "6891a14f-87d7-48ad-81d0-fb367ccc1e0c",
   "metadata": {
    "execution": {
     "iopub.execute_input": "2025-01-15T22:30:16.165534Z",
     "iopub.status.busy": "2025-01-15T22:30:16.165414Z",
     "iopub.status.idle": "2025-01-15T22:30:16.170582Z",
     "shell.execute_reply": "2025-01-15T22:30:16.170256Z",
     "shell.execute_reply.started": "2025-01-15T22:30:16.165521Z"
    }
   },
   "outputs": [
    {
     "name": "stdout",
     "output_type": "stream",
     "text": [
      "ntotal 171 nhole 146 nsepta 25 pen 0.14619883040935672\n"
     ]
    },
    {
     "data": {
      "text/plain": [
       "14.619883040935672"
      ]
     },
     "execution_count": 11,
     "metadata": {},
     "output_type": "execute_result"
    }
   ],
   "source": [
    "pen = calcPenetration(singles)\n",
    "pen*100"
   ]
  },
  {
   "cell_type": "code",
   "execution_count": 12,
   "id": "83f035b6-e463-4f72-bf23-5f6ab1115f35",
   "metadata": {
    "execution": {
     "iopub.execute_input": "2025-01-15T22:30:16.171446Z",
     "iopub.status.busy": "2025-01-15T22:30:16.171294Z",
     "iopub.status.idle": "2025-01-15T22:30:16.174895Z",
     "shell.execute_reply": "2025-01-15T22:30:16.173943Z",
     "shell.execute_reply.started": "2025-01-15T22:30:16.171429Z"
    }
   },
   "outputs": [],
   "source": [
    "# 19g/mL = ntotal 245 nhole 232 nsepta 13 pen 0.053061224489795916\n",
    "# 15g/mL = ntotal 257 nhole 249 nsepta 8 pen 0.0311284046692607\n",
    "# epoxy = ntotal 242 nhole 232 nsepta 10 pen 0.04132231404958678"
   ]
  },
  {
   "cell_type": "markdown",
   "id": "6647af86-9333-402e-9027-a96950df070e",
   "metadata": {},
   "source": [
    "## Summary plot"
   ]
  },
  {
   "cell_type": "code",
   "execution_count": 14,
   "id": "779b089c-0afe-487e-bde0-cb145b4e3b67",
   "metadata": {
    "execution": {
     "iopub.execute_input": "2025-01-15T22:30:25.481728Z",
     "iopub.status.busy": "2025-01-15T22:30:25.480979Z",
     "iopub.status.idle": "2025-01-15T22:30:25.586422Z",
     "shell.execute_reply": "2025-01-15T22:30:25.586051Z",
     "shell.execute_reply.started": "2025-01-15T22:30:25.481668Z"
    }
   },
   "outputs": [
    {
     "data": {
      "image/png": "[encoded data removed]",
      "text/plain": [
       "<Figure size 432x288 with 1 Axes>"
      ]
     },
     "metadata": {
      "needs_background": "light"
     },
     "output_type": "display_data"
    }
   ],
   "source": [
    "pen_tungsten = np.array([0.8, 1.6, 4.5, 8.8, 94.9])\n",
    "pen_tungsten_epoxy = np.array([0.8, 1.8, 5.0, 14.6, 98.0])\n",
    "energies = np.array([50.0,100.,140.,218.,356.])\n",
    "\n",
    "plt.plot(energies,pen_tungsten,marker='o',label='Pure Tungsten [19g/mL]')\n",
    "plt.plot(energies,pen_tungsten_epoxy,marker='o',label='Tungsten Epoxy [15g/mL]')\n",
    "plt.ylim(0,120.)\n",
    "plt.ylabel('Septal Penetration [%]')\n",
    "plt.xlabel('Energy [keV]')\n",
    "plt.legend(loc='upper left')\n",
    "plt.show()"
   ]
  },
  {
   "cell_type": "code",
   "execution_count": null,
   "id": "97efc5c4-fa31-4308-9ae1-1c72b5a53801",
   "metadata": {},
   "outputs": [],
   "source": []
  }
 ],
 "metadata": {
  "kernelspec": {
   "display_name": "Python 3",
   "language": "python",
   "name": "python3"
  },
  "language_info": {
   "codemirror_mode": {
    "name": "ipython",
    "version": 3
   },
   "file_extension": ".py",
   "mimetype": "text/x-python",
   "name": "python",
   "nbconvert_exporter": "python",
   "pygments_lexer": "ipython3",
   "version": "3.8.17"
  }
 },
 "nbformat": 4,
 "nbformat_minor": 5
}
