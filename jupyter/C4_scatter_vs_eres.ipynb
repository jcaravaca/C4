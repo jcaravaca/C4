{
 "cells": [
  {
   "cell_type": "markdown",
   "id": "4b2c0c09-a73e-4871-a412-5b1440651935",
   "metadata": {},
   "source": [
    "# C4 scatter vs Energy resolution"
   ]
  },
  {
   "cell_type": "code",
   "execution_count": 1,
   "id": "de8b7a1d-0cf2-446f-9c77-81c9383f7cee",
   "metadata": {
    "execution": {
     "iopub.execute_input": "2025-01-14T19:28:18.428817Z",
     "iopub.status.busy": "2025-01-14T19:28:18.428693Z",
     "iopub.status.idle": "2025-01-14T19:28:18.666914Z",
     "shell.execute_reply": "2025-01-14T19:28:18.666503Z",
     "shell.execute_reply.started": "2025-01-14T19:28:18.428802Z"
    }
   },
   "outputs": [],
   "source": [
    "import numpy as np\n",
    "import matplotlib.pyplot as plt\n",
    "import uproot"
   ]
  },
  {
   "cell_type": "markdown",
   "id": "dde2a49b-7812-4ee2-9f89-5e323bd661b8",
   "metadata": {},
   "source": [
    "## Datasets"
   ]
  },
  {
   "cell_type": "code",
   "execution_count": 2,
   "id": "bfd4f53d-95ef-4e38-876a-0ca795d9f36d",
   "metadata": {
    "execution": {
     "iopub.execute_input": "2025-01-14T19:28:18.668382Z",
     "iopub.status.busy": "2025-01-14T19:28:18.668180Z",
     "iopub.status.idle": "2025-01-14T19:28:18.670190Z",
     "shell.execute_reply": "2025-01-14T19:28:18.669896Z",
     "shell.execute_reply.started": "2025-01-14T19:28:18.668369Z"
    }
   },
   "outputs": [],
   "source": [
    "# filename_bi = '/Users/jcaravaca/Work_Local/data_overflow/C4/gate/results/C4_12heads_spherecenter_440keV_1MBq_10s_readout.root'\n",
    "# filename_fr = '/Users/jcaravaca/Work_Local/data_overflow/C4/gate/results/C4_12heads_spherecenter_218keV_1MBq_10s_readout.root'\n",
    "\n",
    "filename_bi = '/Users/jcaravaca/Work_Local/data_overflow/C4/gate/results/C4_12heads_col15gmL_spherecenter_440keV_1MBq_10s_readout.root'\n",
    "filename_fr = '/Users/jcaravaca/Work_Local/data_overflow/C4/gate/results/C4_12heads_col15gmL_spherecenter_218keV_1MBq_10s_readout.root'\n",
    "\n",
    "# filename_bi = '/Users/jcaravaca/Work_Local/data_overflow/C4/gate/results/C4_12heads_spherecenter_440keV_1MBq_100s_readout.root'\n",
    "# filename_fr = '/Users/jcaravaca/Work_Local/data_overflow/C4/gate/results/C4_12heads_spherecenter_218keV_1MBq_100s_readout.root'\n",
    "\n"
   ]
  },
  {
   "cell_type": "code",
   "execution_count": 3,
   "id": "5b4253d7-55bb-4899-af83-81e96b1ac27a",
   "metadata": {
    "execution": {
     "iopub.execute_input": "2025-01-14T19:28:18.673141Z",
     "iopub.status.busy": "2025-01-14T19:28:18.672955Z",
     "iopub.status.idle": "2025-01-14T19:28:18.909312Z",
     "shell.execute_reply": "2025-01-14T19:28:18.908935Z",
     "shell.execute_reply.started": "2025-01-14T19:28:18.673129Z"
    }
   },
   "outputs": [],
   "source": [
    "f = uproot.open(filename_bi)\n",
    "singles = f['Singles']\n",
    "singles_bi = singles.arrays()\n",
    "f = uproot.open(filename_fr)\n",
    "singles = f['Singles']\n",
    "singles_fr = singles.arrays()"
   ]
  },
  {
   "cell_type": "markdown",
   "id": "ec408152-8813-4d4c-adad-247f86531343",
   "metadata": {},
   "source": [
    "## Add energy resolution"
   ]
  },
  {
   "cell_type": "code",
   "execution_count": 4,
   "id": "46644db4-0077-4d03-9810-43751e9547ae",
   "metadata": {
    "execution": {
     "iopub.execute_input": "2025-01-14T19:28:18.910827Z",
     "iopub.status.busy": "2025-01-14T19:28:18.910706Z",
     "iopub.status.idle": "2025-01-14T19:28:18.920284Z",
     "shell.execute_reply": "2025-01-14T19:28:18.919906Z",
     "shell.execute_reply.started": "2025-01-14T19:28:18.910815Z"
    }
   },
   "outputs": [],
   "source": [
    "EREF = 0.140           # MeV\n",
    "ERES_FWHM = 0.05       # Fraction of EREF\n",
    "ERES_SIGMA = ERES_FWHM/2.355 # FWHM -> Sigma\n",
    "\n",
    "energy_bi = np.random.normal(singles_bi['energy'], \n",
    "                             ERES_SIGMA*EREF*np.sqrt(EREF/singles_bi['energy']))\n",
    "energy_fr = np.random.normal(singles_fr['energy'], \n",
    "                             ERES_SIGMA*EREF*np.sqrt(EREF/singles_fr['energy']))"
   ]
  },
  {
   "cell_type": "markdown",
   "id": "756551aa-bc7b-4c23-81f5-abc5493995da",
   "metadata": {},
   "source": [
    "## Energy distributions"
   ]
  },
  {
   "cell_type": "code",
   "execution_count": 5,
   "id": "26198f61-0b28-40b0-899c-8364f255a7ce",
   "metadata": {
    "execution": {
     "iopub.execute_input": "2025-01-14T19:28:18.921068Z",
     "iopub.status.busy": "2025-01-14T19:28:18.920888Z",
     "iopub.status.idle": "2025-01-14T19:28:19.289062Z",
     "shell.execute_reply": "2025-01-14T19:28:19.288737Z",
     "shell.execute_reply.started": "2025-01-14T19:28:18.921052Z"
    }
   },
   "outputs": [
    {
     "data": {
      "image/png": "[encoded data removed]",
      "text/plain": [
       "<Figure size 432x288 with 1 Axes>"
      ]
     },
     "metadata": {
      "needs_background": "light"
     },
     "output_type": "display_data"
    }
   ],
   "source": [
    "energy_all = np.concatenate((energy_fr,energy_bi))\n",
    "energy_bi_cut = energy_bi[(energy_bi>0.218*(1-ERES_SIGMA)) & (energy_bi<0.218*(1+ERES_SIGMA))]\n",
    "\n",
    "plt.hist(energy_all*1e3,bins=200,range=(0,500.),histtype='step',label='All counts')\n",
    "plt.hist(energy_bi_cut*1e3,bins=200,range=(0,500.),label='Scatter')\n",
    "\n",
    "# plt.hist(singles_all['energy']*1e3,bins=100,range=(0,500.),histtype='step')\n",
    "# plt.hist(singles_bi['energy']*1e3,bins=100,range=(0,500.),histtype='step')\n",
    "# plt.hist(singles_fr['energy']*1e3,bins=100,range=(0,500.),histtype='step')\n",
    "\n",
    "plt.xlabel('Energy [keV]')\n",
    "plt.ylabel('Counts [A.U.]')\n",
    "plt.yscale('log')\n",
    "\n",
    "plt.legend(loc='upper left')\n",
    "\n",
    "plt.show()"
   ]
  },
  {
   "cell_type": "markdown",
   "id": "8ed07899-e180-4a35-9fa4-27c4bd3aa174",
   "metadata": {},
   "source": [
    "## Calculate downscatter"
   ]
  },
  {
   "cell_type": "code",
   "execution_count": 6,
   "id": "e542af6e-b96c-44fb-a392-195ad787b1bb",
   "metadata": {
    "execution": {
     "iopub.execute_input": "2025-01-14T19:28:19.291430Z",
     "iopub.status.busy": "2025-01-14T19:28:19.291222Z",
     "iopub.status.idle": "2025-01-14T19:28:19.293494Z",
     "shell.execute_reply": "2025-01-14T19:28:19.293107Z",
     "shell.execute_reply.started": "2025-01-14T19:28:19.291398Z"
    }
   },
   "outputs": [],
   "source": [
    "e_ress = np.linspace(0.01,0.10,10)"
   ]
  },
  {
   "cell_type": "code",
   "execution_count": 7,
   "id": "b3d5dc08-43ca-4fc7-b230-77264ee56c6c",
   "metadata": {
    "execution": {
     "iopub.execute_input": "2025-01-14T19:28:19.295009Z",
     "iopub.status.busy": "2025-01-14T19:28:19.294550Z",
     "iopub.status.idle": "2025-01-14T19:28:19.297832Z",
     "shell.execute_reply": "2025-01-14T19:28:19.297418Z",
     "shell.execute_reply.started": "2025-01-14T19:28:19.294989Z"
    }
   },
   "outputs": [],
   "source": [
    "def downscatter(bi,fr,fwhm):\n",
    "    sigma = fwhm/2.355\n",
    "    count_fr = len(fr[(fr>0.218*(1-sigma)) & (fr<0.218*(1+sigma))])\n",
    "    count_bi = len(bi[(bi>0.218*(1-sigma)) & (bi<0.218*(1+sigma))])\n",
    "    return count_bi/(count_fr + count_bi)"
   ]
  },
  {
   "cell_type": "code",
   "execution_count": 8,
   "id": "9bd99435-ede7-41e1-93ad-93c6e83e5ad0",
   "metadata": {
    "execution": {
     "iopub.execute_input": "2025-01-14T19:28:19.299458Z",
     "iopub.status.busy": "2025-01-14T19:28:19.299024Z",
     "iopub.status.idle": "2025-01-14T19:28:19.302855Z",
     "shell.execute_reply": "2025-01-14T19:28:19.302347Z",
     "shell.execute_reply.started": "2025-01-14T19:28:19.299407Z"
    }
   },
   "outputs": [],
   "source": [
    "def calc_dscatter_fwhm(bi,fr,fwhm):\n",
    "    energy_bi = np.random.normal(bi['energy'], \n",
    "                             fwhm/2.355*EREF*np.sqrt(EREF/bi['energy']))\n",
    "    energy_fr = np.random.normal(fr['energy'], \n",
    "                             fwhm/2.355*EREF*np.sqrt(EREF/fr['energy']))\n",
    "    dscatter = downscatter(energy_bi,energy_fr,fwhm)\n",
    "    \n",
    "    return dscatter"
   ]
  },
  {
   "cell_type": "code",
   "execution_count": 9,
   "id": "f32b8693-19a6-43fe-855d-4f8a7fa00e44",
   "metadata": {
    "execution": {
     "iopub.execute_input": "2025-01-14T19:28:19.303697Z",
     "iopub.status.busy": "2025-01-14T19:28:19.303573Z",
     "iopub.status.idle": "2025-01-14T19:28:19.385917Z",
     "shell.execute_reply": "2025-01-14T19:28:19.385566Z",
     "shell.execute_reply.started": "2025-01-14T19:28:19.303682Z"
    }
   },
   "outputs": [
    {
     "data": {
      "text/plain": [
       "[]"
      ]
     },
     "execution_count": 9,
     "metadata": {},
     "output_type": "execute_result"
    },
    {
     "data": {
      "image/png": "[encoded data removed]",
      "text/plain": [
       "<Figure size 432x288 with 1 Axes>"
      ]
     },
     "metadata": {
      "needs_background": "light"
     },
     "output_type": "display_data"
    }
   ],
   "source": [
    "dscatters = np.array([calc_dscatter_fwhm(singles_bi,singles_fr,e_res) \n",
    "                      for e_res in e_ress])\n",
    "\n",
    "plt.plot(e_ress,dscatters*100,marker='o')\n",
    "plt.ylim(0,20.)\n",
    "plt.ylabel('Down-scatter [%]')\n",
    "plt.xlabel('Energy resolution [FWHM]')\n",
    "plt.plot()"
   ]
  },
  {
   "cell_type": "code",
   "execution_count": 10,
   "id": "dbed3760-420f-49bd-81ae-76061a81054b",
   "metadata": {
    "execution": {
     "iopub.execute_input": "2025-01-14T19:28:19.386637Z",
     "iopub.status.busy": "2025-01-14T19:28:19.386466Z",
     "iopub.status.idle": "2025-01-14T19:28:19.390159Z",
     "shell.execute_reply": "2025-01-14T19:28:19.389769Z",
     "shell.execute_reply.started": "2025-01-14T19:28:19.386622Z"
    }
   },
   "outputs": [
    {
     "data": {
      "text/plain": [
       "array([0.01187335, 0.02239789, 0.03042071, 0.04372624, 0.05820106,\n",
       "       0.06823094, 0.07929247, 0.09050313, 0.09982227, 0.11374819])"
      ]
     },
     "execution_count": 10,
     "metadata": {},
     "output_type": "execute_result"
    }
   ],
   "source": [
    "dscatters"
   ]
  },
  {
   "cell_type": "markdown",
   "id": "78992859-e7ee-42f6-8c20-c1b8ed7a847f",
   "metadata": {},
   "source": [
    "## Summary plot"
   ]
  },
  {
   "cell_type": "code",
   "execution_count": 26,
   "id": "c3b14e56-2b7e-4c7f-bcc3-9a5cd735aca8",
   "metadata": {
    "execution": {
     "iopub.execute_input": "2025-01-19T20:13:09.804016Z",
     "iopub.status.busy": "2025-01-19T20:13:09.803307Z",
     "iopub.status.idle": "2025-01-19T20:13:09.910259Z",
     "shell.execute_reply": "2025-01-19T20:13:09.909847Z",
     "shell.execute_reply.started": "2025-01-19T20:13:09.803961Z"
    }
   },
   "outputs": [
    {
     "data": {
      "image/png": "[encoded data removed]",
      "text/plain": [
       "<Figure size 432x288 with 1 Axes>"
      ]
     },
     "metadata": {
      "needs_background": "light"
     },
     "output_type": "display_data"
    }
   ],
   "source": [
    "BI_BRATIO = 0.25\n",
    "FR_BRATIO = 0.11\n",
    "dscatter_tungsten = np.array([0.01911731, 0.03770872, \n",
    "                              0.05264302, 0.06931011, \n",
    "                              0.08418514, 0.10231394, \n",
    "                              0.11699248, 0.1303273 , \n",
    "                              0.14345971, 0.15700472])\n",
    "dscatter_tungsten *= BI_BRATIO/FR_BRATIO\n",
    "dscatter_tungsten_epoxy = np.array([0.01187335, 0.02239789, \n",
    "                                    0.03042071, 0.04372624, \n",
    "                                    0.05820106, 0.06823094, \n",
    "                                    0.07929247, 0.09050313, \n",
    "                                    0.09982227, 0.11374819])\n",
    "dscatter_tungsten_epoxy *= BI_BRATIO/FR_BRATIO\n",
    "e_ress = np.linspace(1,10,10)\n",
    "\n",
    "plt.plot(e_ress,dscatter_tungsten*100,marker='o',label='Pure Tungsten [19g/mL]')\n",
    "plt.plot(e_ress,dscatter_tungsten_epoxy*100,marker='o',label='Tungsten Epoxy [15g/mL]')\n",
    "plt.ylim(0,40.)\n",
    "plt.ylabel('Down-scatter [%]')\n",
    "plt.xlabel('Energy resolution [FWHM %]')\n",
    "plt.legend(loc='upper left')\n",
    "plt.show()"
   ]
  },
  {
   "cell_type": "code",
   "execution_count": 25,
   "id": "ca6a93d1-6b9a-4e67-8b7e-0e0bdf142a2d",
   "metadata": {
    "execution": {
     "iopub.execute_input": "2025-01-19T20:13:03.497501Z",
     "iopub.status.busy": "2025-01-19T20:13:03.496652Z",
     "iopub.status.idle": "2025-01-19T20:13:03.587009Z",
     "shell.execute_reply": "2025-01-19T20:13:03.586556Z",
     "shell.execute_reply.started": "2025-01-19T20:13:03.497434Z"
    }
   },
   "outputs": [
    {
     "data": {
      "image/png": "[encoded data removed]",
      "text/plain": [
       "<Figure size 432x288 with 1 Axes>"
      ]
     },
     "metadata": {
      "needs_background": "light"
     },
     "output_type": "display_data"
    }
   ],
   "source": [
    "plt.plot(e_ress,dscatter_tungsten_epoxy*100,marker='o',label='Tungsten Epoxy [15g/mL]',color='Red')\n",
    "plt.ylim(0,30.)\n",
    "plt.ylabel('Down-scatter [%]')\n",
    "plt.xlabel('Energy resolution [FWHM %]')\n",
    "# plt.legend(loc='upper left')\n",
    "plt.show()"
   ]
  },
  {
   "cell_type": "code",
   "execution_count": null,
   "id": "02596205-cd5f-42e4-99a2-75310381ac36",
   "metadata": {},
   "outputs": [],
   "source": []
  }
 ],
 "metadata": {
  "kernelspec": {
   "display_name": "Python 3",
   "language": "python",
   "name": "python3"
  },
  "language_info": {
   "codemirror_mode": {
    "name": "ipython",
    "version": 3
   },
   "file_extension": ".py",
   "mimetype": "text/x-python",
   "name": "python",
   "nbconvert_exporter": "python",
   "pygments_lexer": "ipython3",
   "version": "3.8.17"
  }
 },
 "nbformat": 4,
 "nbformat_minor": 5
}
