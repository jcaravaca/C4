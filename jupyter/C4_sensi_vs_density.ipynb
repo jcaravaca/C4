{
 "cells": [
  {
   "cell_type": "markdown",
   "id": "4b2c0c09-a73e-4871-a412-5b1440651935",
   "metadata": {},
   "source": [
    "# C4 sensitivity vs density"
   ]
  },
  {
   "cell_type": "code",
   "execution_count": 1,
   "id": "de8b7a1d-0cf2-446f-9c77-81c9383f7cee",
   "metadata": {
    "execution": {
     "iopub.execute_input": "2025-01-18T22:04:54.498519Z",
     "iopub.status.busy": "2025-01-18T22:04:54.498312Z",
     "iopub.status.idle": "2025-01-18T22:04:54.919501Z",
     "shell.execute_reply": "2025-01-18T22:04:54.919164Z",
     "shell.execute_reply.started": "2025-01-18T22:04:54.498493Z"
    }
   },
   "outputs": [],
   "source": [
    "import numpy as np\n",
    "import matplotlib.pyplot as plt\n",
    "import uproot\n",
    "import pandas as pd"
   ]
  },
  {
   "cell_type": "markdown",
   "id": "dde2a49b-7812-4ee2-9f89-5e323bd661b8",
   "metadata": {},
   "source": [
    "## Datasets"
   ]
  },
  {
   "cell_type": "code",
   "execution_count": 2,
   "id": "bfd4f53d-95ef-4e38-876a-0ca795d9f36d",
   "metadata": {
    "execution": {
     "iopub.execute_input": "2025-01-18T22:04:54.920685Z",
     "iopub.status.busy": "2025-01-18T22:04:54.920485Z",
     "iopub.status.idle": "2025-01-18T22:04:54.922528Z",
     "shell.execute_reply": "2025-01-18T22:04:54.922272Z",
     "shell.execute_reply.started": "2025-01-18T22:04:54.920672Z"
    }
   },
   "outputs": [],
   "source": [
    "# Tungsten\n",
    "# filename = '/Users/jcaravaca/Work_Local/data_overflow/C4/gate/results/C4_12heads_tungsten_hole0p7_pointsource_50keV_1MBq_10s.root'\n",
    "# filename = '/Users/jcaravaca/Work_Local/data_overflow/C4/gate/results/C4_12heads_tungsten_hole0p7_pointsource_100keV_1MBq_10s.root'\n",
    "# filename = '/Users/jcaravaca/Work_Local/data_overflow/C4/gate/results/C4_12heads_tungsten_hole0p7_pointsource_140keV_1MBq_10s.root'\n",
    "# filename = '/Users/jcaravaca/Work_Local/data_overflow/C4/gate/results/C4_12heads_tungsten_hole0p7_pointsource_218keV_1MBq_10s.root'\n",
    "# filename = '/Users/jcaravaca/Work_Local/data_overflow/C4/gate/results/C4_12heads_tungsten_hole0p7_pointsource_356keV_1MBq_10s.root'\n",
    "# filename = '/Users/jcaravaca/Work_Local/data_overflow/C4/gate/results/C4_12heads_tungsten_hole0p7_pointsource_440keV_1MBq_10s.root'\n",
    "\n",
    "# filename = '/Users/jcaravaca/Work_Local/data_overflow/C4/gate/results/C4_12heads_tungsten_hole0p7_sphericalsourcecenter_140keV_1MBq_1s.root'\n",
    "# filename = '/Users/jcaravaca/Work_Local/data_overflow/C4/gate/results/C4_12heads_tungsten_hole0p7_sphericalsourcecenter_218keV_1MBq_1s.root'\n",
    "# filename = '/Users/jcaravaca/Work_Local/data_overflow/C4/gate/results/C4_12heads_tungsten_hole0p7_sphericalsourcecenter_365keV_1MBq_1s.root'\n",
    "# filename = '/Users/jcaravaca/Work_Local/data_overflow/C4/gate/results/C4_12heads_tungsten_hole0p7_sphericalsourcecenter_440keV_1MBq_1s.root'\n",
    "# filename = '/Users/jcaravaca/Work_Local/data_overflow/C4/gate/results/C4_12heads_tungsten_hole0p7_sphericalsourcecenter_511keV_1MBq_1s.root'\n",
    "\n",
    "\n",
    "# Tungsten epoxy\n",
    "# filename = '/Users/jcaravaca/Work_Local/data_overflow/C4/gate/results/C4_12heads_tungstenepoxy_hole0p7_pointsource_50keV_1MBq_10s.root'\n",
    "# filename = '/Users/jcaravaca/Work_Local/data_overflow/C4/gate/results/C4_12heads_tungstenepoxy_hole0p7_pointsource_100keV_1MBq_10s.root'\n",
    "# filename = '/Users/jcaravaca/Work_Local/data_overflow/C4/gate/results/C4_12heads_tungstenepoxy_hole0p7_pointsource_140keV_1MBq_10s.root'\n",
    "# filename = '/Users/jcaravaca/Work_Local/data_overflow/C4/gate/results/C4_12heads_tungstenepoxy_hole0p7_pointsource_218keV_1MBq_10s.root'\n",
    "# filename = '/Users/jcaravaca/Work_Local/data_overflow/C4/gate/results/C4_12heads_tungstenepoxy_hole0p7_pointsource_356keV_1MBq_10s.root'\n",
    "# filename = '/Users/jcaravaca/Work_Local/data_overflow/C4/gate/results/C4_12heads_tungstenepoxy_hole0p7_pointsource_440keV_1MBq_10s.root'\n",
    "\n",
    "# filename = '/Users/jcaravaca/Work_Local/data_overflow/C4/gate/results/C4_12heads_tungstenepoxy_hole0p7_sphericalsourcecenter_140keV_1MBq_1s.root'\n",
    "filename = '/Users/jcaravaca/Work_Local/data_overflow/C4/gate/results/C4_12heads_tungstenepoxy_hole0p7_sphericalsourcecenter_218keV_1MBq_1s.root'\n",
    "# filename = '/Users/jcaravaca/Work_Local/data_overflow/C4/gate/results/C4_12heads_tungstenepoxy_hole0p7_sphericalsourcecenter_365keV_1MBq_1s.root'\n",
    "# filename = '/Users/jcaravaca/Work_Local/data_overflow/C4/gate/results/C4_12heads_tungstenepoxy_hole0p7_sphericalsourcecenter_440keV_1MBq_1s.root'\n",
    "# filename = '/Users/jcaravaca/Work_Local/data_overflow/C4/gate/results/C4_12heads_tungstenepoxy_hole0p7_sphericalsourcecenter_511keV_1MBq_1s.root'\n"
   ]
  },
  {
   "cell_type": "code",
   "execution_count": 3,
   "id": "5b4253d7-55bb-4899-af83-81e96b1ac27a",
   "metadata": {
    "execution": {
     "iopub.execute_input": "2025-01-18T22:04:54.923393Z",
     "iopub.status.busy": "2025-01-18T22:04:54.923276Z",
     "iopub.status.idle": "2025-01-18T22:04:55.038381Z",
     "shell.execute_reply": "2025-01-18T22:04:55.038095Z",
     "shell.execute_reply.started": "2025-01-18T22:04:54.923381Z"
    }
   },
   "outputs": [],
   "source": [
    "f = uproot.open(filename)\n",
    "singles = f['Singles']\n",
    "singles = singles.arrays()\n",
    "type(singles)\n",
    "\n",
    "# Convert to pandas\n",
    "singles_df = pd.DataFrame()\n",
    "singles_df['energy'] = singles['energy'].tolist()\n",
    "singles_df['eventID'] = singles['eventID'].tolist()\n",
    "singles_df['pixelID'] = singles['pixelID'].tolist()\n",
    "# singles_df"
   ]
  },
  {
   "cell_type": "markdown",
   "id": "ec408152-8813-4d4c-adad-247f86531343",
   "metadata": {},
   "source": [
    "## Calculate Compton sensitivity"
   ]
  },
  {
   "cell_type": "code",
   "execution_count": 4,
   "id": "46644db4-0077-4d03-9810-43751e9547ae",
   "metadata": {
    "execution": {
     "iopub.execute_input": "2025-01-18T22:04:55.038999Z",
     "iopub.status.busy": "2025-01-18T22:04:55.038881Z",
     "iopub.status.idle": "2025-01-18T22:04:55.106812Z",
     "shell.execute_reply": "2025-01-18T22:04:55.106545Z",
     "shell.execute_reply.started": "2025-01-18T22:04:55.038986Z"
    }
   },
   "outputs": [
    {
     "data": {
      "image/png": "[encoded data removed]",
      "text/plain": [
       "<Figure size 432x288 with 1 Axes>"
      ]
     },
     "metadata": {
      "needs_background": "light"
     },
     "output_type": "display_data"
    }
   ],
   "source": [
    "nhits = singles_df.groupby(['eventID'])['energy'].count()\n",
    "nhits_2 = nhits[nhits==2]\n",
    "\n",
    "plt.hist(nhits,bins=10,range=(0,10))\n",
    "plt.hist(nhits_2,bins=10,range=(0,10))\n",
    "plt.xlabel('NHits')\n",
    "plt.ylabel('Counts')\n",
    "plt.show()"
   ]
  },
  {
   "cell_type": "code",
   "execution_count": 5,
   "id": "712d001c-10ae-4474-92e8-dc5398e1a65c",
   "metadata": {
    "execution": {
     "iopub.execute_input": "2025-01-18T22:04:55.107462Z",
     "iopub.status.busy": "2025-01-18T22:04:55.107339Z",
     "iopub.status.idle": "2025-01-18T22:04:55.269931Z",
     "shell.execute_reply": "2025-01-18T22:04:55.269575Z",
     "shell.execute_reply.started": "2025-01-18T22:04:55.107449Z"
    }
   },
   "outputs": [
    {
     "data": {
      "image/png": "[encoded data removed]",
      "text/plain": [
       "<Figure size 432x288 with 1 Axes>"
      ]
     },
     "metadata": {
      "needs_background": "light"
     },
     "output_type": "display_data"
    }
   ],
   "source": [
    "energy = singles_df.groupby(['eventID'])['energy'].sum()\n",
    "energy_2 = energy[nhits==2]\n",
    "\n",
    "plt.hist(energy,bins=100,range=(0,0.600))\n",
    "plt.hist(energy_2,bins=100,range=(0,0.600))\n",
    "plt.xlabel('Energy [MeV]')\n",
    "plt.ylabel('Counts')\n",
    "plt.show()"
   ]
  },
  {
   "cell_type": "code",
   "execution_count": 6,
   "id": "9bb7e96c-c6b8-47a3-9584-fe7b20236ee4",
   "metadata": {
    "execution": {
     "iopub.execute_input": "2025-01-18T22:04:55.270516Z",
     "iopub.status.busy": "2025-01-18T22:04:55.270402Z",
     "iopub.status.idle": "2025-01-18T22:04:55.272811Z",
     "shell.execute_reply": "2025-01-18T22:04:55.272511Z",
     "shell.execute_reply.started": "2025-01-18T22:04:55.270504Z"
    }
   },
   "outputs": [],
   "source": [
    "def comptonSensi(singles_df,e_lo,e_hi,acq_time,activity):\n",
    "    nhits = singles_df.groupby(['eventID'])['energy'].count()\n",
    "    energy = singles_df.groupby(['eventID'])['energy'].sum()\n",
    "    energy_2 = energy[nhits==2]\n",
    "    energy_2_sel = energy_2[(energy_2>e_lo)&(energy_2<e_hi)]\n",
    "    ncounts = len(energy_2_sel)\n",
    "    sensi = ncounts/acq_time/activity\n",
    "    return sensi"
   ]
  },
  {
   "cell_type": "code",
   "execution_count": 7,
   "id": "5583bfd5-5ea9-45da-9f4a-761238be3983",
   "metadata": {
    "execution": {
     "iopub.execute_input": "2025-01-18T22:04:55.273386Z",
     "iopub.status.busy": "2025-01-18T22:04:55.273280Z",
     "iopub.status.idle": "2025-01-18T22:04:55.276629Z",
     "shell.execute_reply": "2025-01-18T22:04:55.276366Z",
     "shell.execute_reply.started": "2025-01-18T22:04:55.273374Z"
    }
   },
   "outputs": [
    {
     "name": "stdout",
     "output_type": "stream",
     "text": [
      "Sensitivity = 0.0\n"
     ]
    }
   ],
   "source": [
    "ACQ_TIME =    1.   #s\n",
    "ACTIVITY =    1.0  #MBq\n",
    "E = 0.511\n",
    "ECUT = 0.05\n",
    "sensi = comptonSensi(singles_df,E*(1-ECUT),E*(1+ECUT),ACQ_TIME,ACTIVITY)\n",
    "print('Sensitivity =',sensi)"
   ]
  },
  {
   "cell_type": "markdown",
   "id": "2f762713-a35e-4638-984a-dbd61124fa8a",
   "metadata": {},
   "source": [
    "## Calculate SPECT sensitivity"
   ]
  },
  {
   "cell_type": "markdown",
   "id": "6037cb81-33e8-47fb-8732-ee3e9db5452b",
   "metadata": {
    "execution": {
     "iopub.execute_input": "2025-01-18T20:41:11.562042Z",
     "iopub.status.busy": "2025-01-18T20:41:11.553942Z",
     "iopub.status.idle": "2025-01-18T20:41:11.608124Z",
     "shell.execute_reply": "2025-01-18T20:41:11.606491Z",
     "shell.execute_reply.started": "2025-01-18T20:41:11.561302Z"
    }
   },
   "source": [
    "### Energy distribution"
   ]
  },
  {
   "cell_type": "code",
   "execution_count": 8,
   "id": "f01d0fc8-4d1d-4058-9429-45c4764a1a13",
   "metadata": {
    "execution": {
     "iopub.execute_input": "2025-01-18T22:04:55.278021Z",
     "iopub.status.busy": "2025-01-18T22:04:55.277925Z",
     "iopub.status.idle": "2025-01-18T22:04:55.431224Z",
     "shell.execute_reply": "2025-01-18T22:04:55.430912Z",
     "shell.execute_reply.started": "2025-01-18T22:04:55.278010Z"
    }
   },
   "outputs": [
    {
     "data": {
      "image/png": "[encoded data removed]",
      "text/plain": [
       "<Figure size 432x288 with 1 Axes>"
      ]
     },
     "metadata": {
      "needs_background": "light"
     },
     "output_type": "display_data"
    }
   ],
   "source": [
    "energy = singles_df.groupby(['eventID'])['energy'].sum()\n",
    "energy_2 = energy[nhits==1]\n",
    "\n",
    "plt.hist(energy,bins=100,range=(0,0.600))\n",
    "plt.hist(energy_2,bins=100,range=(0,0.600))\n",
    "plt.xlabel('Energy [MeV]')\n",
    "plt.ylabel('Counts')\n",
    "plt.show()"
   ]
  },
  {
   "cell_type": "code",
   "execution_count": 9,
   "id": "020f9abc-201a-4144-a465-e69ad22e17c0",
   "metadata": {
    "execution": {
     "iopub.execute_input": "2025-01-18T22:04:55.432035Z",
     "iopub.status.busy": "2025-01-18T22:04:55.431930Z",
     "iopub.status.idle": "2025-01-18T22:04:55.434338Z",
     "shell.execute_reply": "2025-01-18T22:04:55.434051Z",
     "shell.execute_reply.started": "2025-01-18T22:04:55.432024Z"
    }
   },
   "outputs": [],
   "source": [
    "def CollimatorSensi(singles_df,e_lo,e_hi,acq_time,activity):\n",
    "    nhits = singles_df.groupby(['eventID'])['energy'].count()\n",
    "    energy = singles_df.groupby(['eventID'])['energy'].sum()\n",
    "    energy_2 = energy[nhits==1]\n",
    "    energy_2 = energy\n",
    "    energy_2_sel = energy_2[(energy_2>e_lo)&(energy_2<e_hi)]\n",
    "    ncounts = len(energy_2_sel)\n",
    "    sensi = ncounts/acq_time/activity\n",
    "    return sensi"
   ]
  },
  {
   "cell_type": "code",
   "execution_count": 10,
   "id": "9812ae5b-e37b-4ba2-b613-f4a08f8ac0c2",
   "metadata": {
    "execution": {
     "iopub.execute_input": "2025-01-18T22:04:55.435017Z",
     "iopub.status.busy": "2025-01-18T22:04:55.434898Z",
     "iopub.status.idle": "2025-01-18T22:04:55.438272Z",
     "shell.execute_reply": "2025-01-18T22:04:55.437995Z",
     "shell.execute_reply.started": "2025-01-18T22:04:55.435005Z"
    }
   },
   "outputs": [
    {
     "name": "stdout",
     "output_type": "stream",
     "text": [
      "Sensitivity = 353.00cps/MBq\n"
     ]
    }
   ],
   "source": [
    "ACQ_TIME =    1.   #s\n",
    "ACTIVITY =    1.0  #MBq\n",
    "E = 0.218\n",
    "ECUT = 0.05\n",
    "sensi = CollimatorSensi(singles_df,E*(1-ECUT),E*(1+ECUT),ACQ_TIME,ACTIVITY)\n",
    "print('Sensitivity = %.2fcps/MBq'%sensi)"
   ]
  },
  {
   "cell_type": "markdown",
   "id": "1f2cdd9a-b96b-4dd4-b495-29412c9b042c",
   "metadata": {},
   "source": [
    "## Summary plots"
   ]
  },
  {
   "cell_type": "code",
   "execution_count": 11,
   "id": "e6cdb702-a359-4b93-b98e-516c8a2c995f",
   "metadata": {
    "execution": {
     "iopub.execute_input": "2025-01-18T22:04:55.438827Z",
     "iopub.status.busy": "2025-01-18T22:04:55.438724Z",
     "iopub.status.idle": "2025-01-18T22:04:55.530697Z",
     "shell.execute_reply": "2025-01-18T22:04:55.530376Z",
     "shell.execute_reply.started": "2025-01-18T22:04:55.438815Z"
    }
   },
   "outputs": [
    {
     "data": {
      "image/png": "[encoded data removed]",
      "text/plain": [
       "<Figure size 432x288 with 1 Axes>"
      ]
     },
     "metadata": {
      "needs_background": "light"
     },
     "output_type": "display_data"
    }
   ],
   "source": [
    "ComptonSensi_tungsten = np.array([92.0,307.0,579.0,511.])\n",
    "ComptonSensi_tungsten_epoxy = np.array([88.0,584.0,954.0,635.0])\n",
    "energies = np.array([218.,365.,440.,511.])\n",
    "\n",
    "plt.plot(energies,ComptonSensi_tungsten,marker='o',label='Pure Tungsten [19g/mL]')\n",
    "plt.plot(energies,ComptonSensi_tungsten_epoxy,marker='o',label='Tungsten Epoxy [15g/mL]')\n",
    "plt.ylim(0)\n",
    "plt.ylabel('Compton Sensitivity [cps/MBq]')\n",
    "plt.xlabel('Energy [keV]')\n",
    "plt.legend(loc='upper left')\n",
    "plt.show()"
   ]
  },
  {
   "cell_type": "code",
   "execution_count": 15,
   "id": "ea320859-efd1-405b-a33d-7ff566144aef",
   "metadata": {
    "execution": {
     "iopub.execute_input": "2025-01-18T22:06:16.976107Z",
     "iopub.status.busy": "2025-01-18T22:06:16.975392Z",
     "iopub.status.idle": "2025-01-18T22:06:17.083170Z",
     "shell.execute_reply": "2025-01-18T22:06:17.082808Z",
     "shell.execute_reply.started": "2025-01-18T22:06:16.976053Z"
    }
   },
   "outputs": [
    {
     "data": {
      "image/png": "[encoded data removed]",
      "text/plain": [
       "<Figure size 432x288 with 1 Axes>"
      ]
     },
     "metadata": {
      "needs_background": "light"
     },
     "output_type": "display_data"
    }
   ],
   "source": [
    "# sensi_total_standard = np.array([350.,300.0,200.0,579.0,511.])\n",
    "sensi_compton_c4 = np.array([0.,88.0,584.0,954.0,635.0])\n",
    "sensi_col_c4 = np.array([453.,353.0,0.0,0.0,0.0])\n",
    "sensi_total_c4 = np.array([453.,88.0+353.0,584.0,954.0,635.0])\n",
    "energies = np.array([140.,218.,365.,440.,511.])\n",
    "\n",
    "# plt.plot(energies,sensi_total_standard,marker='o',label='State-of-the-art',color='Gray')\n",
    "plt.plot(energies,sensi_total_c4,marker='o',label='Total',color='Red')\n",
    "plt.plot(energies,sensi_compton_c4,label='Compton',color='Red',linestyle='--')\n",
    "plt.plot(energies,sensi_col_c4,label='Collimation',color='Red',linestyle=':')\n",
    "plt.ylim(0,1200)\n",
    "plt.ylabel('Sensitivity [cps/MBq]')\n",
    "plt.xlabel('Energy [keV]')\n",
    "plt.legend(loc='upper left')\n",
    "plt.show()"
   ]
  },
  {
   "cell_type": "code",
   "execution_count": null,
   "id": "db79f210-00fb-4efd-9238-79825ab22528",
   "metadata": {},
   "outputs": [],
   "source": []
  }
 ],
 "metadata": {
  "kernelspec": {
   "display_name": "Python 3",
   "language": "python",
   "name": "python3"
  },
  "language_info": {
   "codemirror_mode": {
    "name": "ipython",
    "version": 3
   },
   "file_extension": ".py",
   "mimetype": "text/x-python",
   "name": "python",
   "nbconvert_exporter": "python",
   "pygments_lexer": "ipython3",
   "version": "3.8.17"
  }
 },
 "nbformat": 4,
 "nbformat_minor": 5
}
